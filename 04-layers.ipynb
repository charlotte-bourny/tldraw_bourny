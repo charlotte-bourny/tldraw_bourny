{
 "cells": [
  {
   "cell_type": "markdown",
   "id": "6afeba13-eb70-47c4-a2b1-7b987782a7a9",
   "metadata": {},
   "source": [
    "---\n",
    "title: Layers\n",
    "date: 2023-12-1 \n",
    "authors:\n",
    "  - name: Sébastien Boisgérault\n",
    "    email: Sebastien.Boisgerault@minesparis.psl.eu\n",
    "    url: https://github.com/boisgera\n",
    "    affiliations:\n",
    "      - institution: Mines Paris - PSL University\n",
    "        department: Institut des Transformation Numériques (ITN)\n",
    "github: boisgera\n",
    "license: CC-BY-4.0\n",
    "open_access: true\n",
    "---"
   ]
  },
  {
   "cell_type": "markdown",
   "id": "08881845-8a6c-4dff-9877-ab61c5d6d41d",
   "metadata": {},
   "source": [
    "# Stack of Cards\n",
    "\n",
    "\n",
    "```{exercise}\n",
    "1. Create a set of filled rectangles with the following sequence of colors: black, violet, blue, orange green and red. \n",
    "2. If necessary, move the rectangles so that they overlap and you can see which one is on top of the other.\n",
    "3. Which one is at the back of the document? Which one is at the top?  \n",
    "```"
   ]
  },
  {
   "cell_type": "code",
   "execution_count": 1,
   "id": "b2f7fbc9-5e8f-4fe5-aa2c-80b661de3da5",
   "metadata": {},
   "outputs": [
    {
     "ename": "Terminator",
     "evalue": "",
     "output_type": "error",
     "traceback": [
      "\u001b[1;31m---------------------------------------------------------------------------\u001b[0m",
      "\u001b[1;31mTerminator\u001b[0m                                Traceback (most recent call last)",
      "Cell \u001b[1;32mIn[1], line 9\u001b[0m\n\u001b[0;32m      7\u001b[0m \u001b[38;5;28;01mfor\u001b[39;00m i \u001b[38;5;129;01min\u001b[39;00m \u001b[38;5;28mrange\u001b[39m(\u001b[38;5;241m4\u001b[39m):\n\u001b[0;32m      8\u001b[0m     turtle\u001b[38;5;241m.\u001b[39mforward(\u001b[38;5;241m50\u001b[39m)\n\u001b[1;32m----> 9\u001b[0m     \u001b[43mturtle\u001b[49m\u001b[38;5;241;43m.\u001b[39;49m\u001b[43mright\u001b[49m\u001b[43m(\u001b[49m\u001b[38;5;241;43m90\u001b[39;49m\u001b[43m)\u001b[49m\n\u001b[0;32m     10\u001b[0m turtle\u001b[38;5;241m.\u001b[39mend_fill()\n\u001b[0;32m     11\u001b[0m turtle\u001b[38;5;241m.\u001b[39mforward(\u001b[38;5;241m25\u001b[39m) \u001b[38;5;66;03m#to overlap the different rectangles\u001b[39;00m\n",
      "File \u001b[1;32m<string>:5\u001b[0m, in \u001b[0;36mright\u001b[1;34m(angle)\u001b[0m\n",
      "\u001b[1;31mTerminator\u001b[0m: "
     ]
    }
   ],
   "source": [
    "import turtle\n",
    "colors=['black','violet','blue','orange','green','red']\n",
    "screen=turtle.Screen() #initialise un screen pour notre tracé\n",
    "for couleur in colors:\n",
    "    turtle.fillcolor(couleur)\n",
    "    turtle.begin_fill()\n",
    "    for i in range(4):\n",
    "        turtle.forward(50)\n",
    "        turtle.right(90)\n",
    "    turtle.end_fill()\n",
    "    turtle.forward(25) #to overlap the different rectangles\n",
    "    #the black one is on the back, the red one on the front\n",
    "        "
   ]
  },
  {
   "cell_type": "markdown",
   "id": "cdb53dff-710c-4543-94df-ad1530f70ec8",
   "metadata": {},
   "source": [
    "![Layers](images/layers.png)"
   ]
  },
  {
   "cell_type": "markdown",
   "id": "41908045-4a55-4965-b015-ff860fb94096",
   "metadata": {},
   "source": [
    "# The Index\n",
    " "
   ]
  },
  {
   "cell_type": "markdown",
   "id": "c06f49bf-8844-4c94-83c5-c4d6e6056c5b",
   "metadata": {},
   "source": [
    "```{exercise}\n",
    ":label: second\n",
    "1. List the colors of all the shapes in your document, in the order in which they appear. What can you say?\n",
    "2. In Python, edit your document to make the red rectangle appear *before* every other rectangle. \n",
    "Does this change the (relative) depth of this rectangle?\n",
    "3. List again the colors of all the shapes in your document and the corresponding *index*, a string which is an attribute of the shape.\n",
    "4. Compare the lexicographic order between these strings and their depth in the document. What can you say?\n",
    "```\n",
    "\n",
    "````{note} Lexicographic order\n",
    "\n",
    "   When Python strings are compared and sorted, by default the lexicographic order is used.\n",
    "\n",
    "   The lexicographic order generalizes the alphabetical order:\n",
    "\n",
    "   ```\n",
    "   >>> \"alpaca\" < \"guanaco\" < \"lama\" < \"vicuña\"\n",
    "   True\n",
    "   ```\n",
    "\n",
    "   When the first letters are identical, the shorter strings is sorted first:\n",
    "   ```\n",
    "   >>> \"a\" < \"alp\" < \"alpaca\"\n",
    "   True\n",
    "   ```\n",
    "\n",
    "   All uppercase letters come before lowercase letters:\n",
    "   \n",
    "   ```\n",
    "   >>> \"A\" < \"Z\" < \"a\" < \"z\"\n",
    "   ```\n",
    "\n",
    "   and therefore \n",
    "\n",
    "   ```\n",
    "   >>> \"Vicuña\" < \"alpaca\" < \"vicuña\"\n",
    "   True\n",
    "   ```\n",
    "\n",
    "   Digits are ordered \"naturally\":\n",
    "\n",
    "   ```\n",
    "   >>> \"0\" < \"1\" < \"2\" < \"3\" < \"4\" < \"5\" < \"6\" < \"7\" < \"8\" < \"9\"\n",
    "   True\n",
    "   ```\n",
    "\n",
    "   However, beware of the comparison of strings that represent numbers:\n",
    "\n",
    "   ```\n",
    "   >>> \"2\" < \"100\"\n",
    "   False\n",
    "   >>> sorted([\"2\", \"100\"])\n",
    "   ['100', '2']\n",
    "   ```\n",
    "\n",
    "   All digits come before letters:\n",
    "\n",
    "   ```\n",
    "   >>> \"0\" < \"1\" < \"9\" < \"A\" < \"B\" < \"Z\" < \"a\" < \"b\" < \"z\"\n",
    "   True\n",
    "   ```\n",
    "\n",
    "\n",
    "\n",
    "````"
   ]
  },
  {
   "cell_type": "code",
   "execution_count": 1,
   "id": "169f1e0e-89a2-4f4e-9c59-0e4baeb250c8",
   "metadata": {},
   "outputs": [],
   "source": [
    "#1) the colors in the document are 'black','violet','blue','orange','green','red' like specified in the code\n",
    "#2) Let's copy the code of ex1 and put the color red first\n",
    "import turtle\n",
    "colors=['red','black','violet','blue','orange','green']\n",
    "screen=turtle.Screen() #initialise un screen pour notre tracé\n",
    "for couleur in colors:\n",
    "    turtle.fillcolor(couleur)\n",
    "    turtle.begin_fill()\n",
    "    for i in range(4):\n",
    "        turtle.forward(50)\n",
    "        turtle.right(90)\n",
    "    turtle.end_fill()\n",
    "    turtle.forward(25) #to overlap the different rectangles\n",
    "    #the relative depth changes because the red rectangle in on the back (it was previously on the front)\n",
    "#3) red its index is 0, black its index is 1,violet its index is 2,blue its index is 3,orange its index is 4, green its index is 5 (index meaning relative depth)\n",
    "#4)in this particular case the lexicographic order of the colors does not match the order of the depths\n",
    "    #because \"0\"<\"1\"<....<\"5\" and \"black\"<\"blue\"<....<\"red\" so \"red\">\"black\""
   ]
  },
  {
   "cell_type": "markdown",
   "id": "5541ef7f-67f5-48f9-8486-20bfa5b17109",
   "metadata": {},
   "source": [
    "# Fractional Indexing"
   ]
  },
  {
   "cell_type": "markdown",
   "id": "b2aa9801-d18f-4439-bebf-67c1fbe2e5fd",
   "metadata": {},
   "source": [
    "```{exercise}\n",
    "1. In the tldraw editor, insert a yellow rectangle into the document and use \"Actions/Send backward\" repeatedly to put it in a layer between the red and violet rectangles.\n",
    "2. Save this document and load it in Python.  Did the indices of the old rectangles change? \n",
    "3. What is the index of the new rectangle? Is this value consistent with the assumption you made in question 4 of [](#second)?\n",
    "```"
   ]
  },
  {
   "cell_type": "code",
   "execution_count": 1,
   "id": "9a46e450-778e-41dc-9ec8-86c6586a04fa",
   "metadata": {},
   "outputs": [
    {
     "name": "stdout",
     "output_type": "stream",
     "text": [
      "{\"tldrawFileFormatVersion\":1,\"schema\":{\"schemaVersion\":1,\"storeVersion\":4,\"recordVersions\":{\"asset\":{\"version\":1,\"subTypeKey\":\"type\",\"subTypeVersions\":{\"image\":2,\"video\":2,\"bookmark\":0}},\"camera\":{\"version\":1},\"document\":{\"version\":2},\"instance\":{\"version\":22},\"instance_page_state\":{\"version\":5},\"page\":{\"version\":1},\"shape\":{\"version\":3,\"subTypeKey\":\"type\",\"subTypeVersions\":{\"group\":0,\"text\":1,\"bookmark\":1,\"draw\":1,\"geo\":7,\"note\":4,\"line\":1,\"frame\":0,\"arrow\":2,\"highlight\":0,\"embed\":4,\"image\":2,\"video\":1}},\"instance_presence\":{\"version\":5},\"pointer\":{\"version\":1}}},\"records\":[{\"gridSize\":10,\"name\":\"\",\"meta\":{},\"id\":\"document:document\",\"typeName\":\"document\"},{\"meta\":{},\"id\":\"page:-iIL0y5rbWRs26XpH2f77\",\"name\":\"Page 1\",\"index\":\"a1\",\"typeName\":\"page\"},{\"id\":\"pointer:pointer\",\"typeName\":\"pointer\",\"x\":194.40000915527344,\"y\":246.1999969482422,\"lastActivityTimestamp\":1704131243437,\"meta\":{}},{\"followingUserId\":null,\"opacityForNextShape\":1,\"stylesForNextShape\":{\"tldraw:geo\":\"rectangle\",\"tldraw:color\":\"yellow\",\"tldraw:fill\":\"solid\"},\"brush\":null,\"scribbles\":[],\"cursor\":{\"type\":\"default\",\"rotation\":0},\"isFocusMode\":false,\"exportBackground\":true,\"isDebugMode\":false,\"isToolLocked\":false,\"screenBounds\":{\"x\":0,\"y\":0,\"w\":1536,\"h\":695.2000122070312},\"zoomBrush\":null,\"isGridMode\":false,\"isPenMode\":false,\"chatMessage\":\"\",\"isChatting\":false,\"highlightedUserIds\":[],\"canMoveCamera\":true,\"isFocused\":true,\"devicePixelRatio\":1.25,\"isCoarsePointer\":false,\"isHoveringCanvas\":true,\"openMenus\":[],\"isChangingStyle\":false,\"isReadonly\":false,\"meta\":{},\"id\":\"instance:instance\",\"currentPageId\":\"page:-iIL0y5rbWRs26XpH2f77\",\"typeName\":\"instance\"},{\"editingShapeId\":null,\"croppingShapeId\":null,\"selectedShapeIds\":[\"shape:LV70dv-yLwPrKQFKYSazr\"],\"hoveredShapeId\":null,\"erasingShapeIds\":[],\"hintingShapeIds\":[],\"focusedGroupId\":null,\"meta\":{},\"id\":\"instance_page_state:page:-iIL0y5rbWRs26XpH2f77\",\"pageId\":\"page:-iIL0y5rbWRs26XpH2f77\",\"typeName\":\"instance_page_state\"},{\"x\":0,\"y\":0,\"z\":1,\"meta\":{},\"id\":\"camera:page:-iIL0y5rbWRs26XpH2f77\",\"typeName\":\"camera\"},{\"x\":432,\"y\":306.20001220703125,\"rotation\":0,\"isLocked\":false,\"opacity\":1,\"meta\":{},\"id\":\"shape:NPM7J-JsgG1oLyaHxUKz7\",\"type\":\"geo\",\"props\":{\"w\":222.4000244140625,\"h\":131.19998168945312,\"geo\":\"rectangle\",\"color\":\"red\",\"labelColor\":\"black\",\"fill\":\"solid\",\"dash\":\"draw\",\"size\":\"m\",\"font\":\"draw\",\"text\":\"\",\"align\":\"middle\",\"verticalAlign\":\"middle\",\"growY\":0,\"url\":\"\"},\"parentId\":\"page:-iIL0y5rbWRs26XpH2f77\",\"index\":\"a1\",\"typeName\":\"shape\"},{\"x\":554.3999633789062,\"y\":301.3999938964844,\"rotation\":0,\"isLocked\":false,\"opacity\":1,\"meta\":{},\"id\":\"shape:aphmmEBpxH88Tk_iDhxbM\",\"type\":\"geo\",\"props\":{\"w\":198.4000244140625,\"h\":137.60000610351562,\"geo\":\"rectangle\",\"color\":\"black\",\"labelColor\":\"black\",\"fill\":\"solid\",\"dash\":\"draw\",\"size\":\"m\",\"font\":\"draw\",\"text\":\"\",\"align\":\"middle\",\"verticalAlign\":\"middle\",\"growY\":0,\"url\":\"\"},\"parentId\":\"page:-iIL0y5rbWRs26XpH2f77\",\"index\":\"a2\",\"typeName\":\"shape\"},{\"x\":671.5999755859375,\"y\":303,\"rotation\":0,\"isLocked\":false,\"opacity\":1,\"meta\":{},\"id\":\"shape:jDr-MHlFYt5jvlWS_PDgr\",\"type\":\"geo\",\"props\":{\"w\":198.4000244140625,\"h\":137.60000610351562,\"geo\":\"rectangle\",\"color\":\"violet\",\"labelColor\":\"black\",\"fill\":\"solid\",\"dash\":\"draw\",\"size\":\"m\",\"font\":\"draw\",\"text\":\"\",\"align\":\"middle\",\"verticalAlign\":\"middle\",\"growY\":0,\"url\":\"\"},\"parentId\":\"page:-iIL0y5rbWRs26XpH2f77\",\"index\":\"a3\",\"typeName\":\"shape\"},{\"x\":772.7999877929688,\"y\":301.3999938964844,\"rotation\":0,\"isLocked\":false,\"opacity\":1,\"meta\":{},\"id\":\"shape:8tOEr_lqjLuHj1D833XZ5\",\"type\":\"geo\",\"props\":{\"w\":198.4000244140625,\"h\":137.60000610351562,\"geo\":\"rectangle\",\"color\":\"light-blue\",\"labelColor\":\"black\",\"fill\":\"solid\",\"dash\":\"draw\",\"size\":\"m\",\"font\":\"draw\",\"text\":\"\",\"align\":\"middle\",\"verticalAlign\":\"middle\",\"growY\":0,\"url\":\"\"},\"parentId\":\"page:-iIL0y5rbWRs26XpH2f77\",\"index\":\"a4\",\"typeName\":\"shape\"},{\"x\":860.4000244140625,\"y\":302.1999816894531,\"rotation\":0,\"isLocked\":false,\"opacity\":1,\"meta\":{},\"id\":\"shape:whFMES1sTJsHZowD9SpkL\",\"type\":\"geo\",\"props\":{\"w\":198.4000244140625,\"h\":137.60000610351562,\"geo\":\"rectangle\",\"color\":\"orange\",\"labelColor\":\"black\",\"fill\":\"solid\",\"dash\":\"draw\",\"size\":\"m\",\"font\":\"draw\",\"text\":\"\",\"align\":\"middle\",\"verticalAlign\":\"middle\",\"growY\":0,\"url\":\"\"},\"parentId\":\"page:-iIL0y5rbWRs26XpH2f77\",\"index\":\"a5\",\"typeName\":\"shape\"},{\"x\":941.6000366210938,\"y\":302.1999816894531,\"rotation\":0,\"isLocked\":false,\"opacity\":1,\"meta\":{},\"id\":\"shape:5lw45TAgP2LVDmNERyoY0\",\"type\":\"geo\",\"props\":{\"w\":198.4000244140625,\"h\":137.60000610351562,\"geo\":\"rectangle\",\"color\":\"light-green\",\"labelColor\":\"black\",\"fill\":\"solid\",\"dash\":\"draw\",\"size\":\"m\",\"font\":\"draw\",\"text\":\"\",\"align\":\"middle\",\"verticalAlign\":\"middle\",\"growY\":0,\"url\":\"\"},\"parentId\":\"page:-iIL0y5rbWRs26XpH2f77\",\"index\":\"a6\",\"typeName\":\"shape\"},{\"x\":480.4001770019531,\"y\":315,\"rotation\":0,\"isLocked\":false,\"opacity\":1,\"meta\":{},\"id\":\"shape:LV70dv-yLwPrKQFKYSazr\",\"type\":\"geo\",\"props\":{\"w\":122.40002441406251,\"h\":119.19998168945312,\"geo\":\"rectangle\",\"color\":\"yellow\",\"labelColor\":\"black\",\"fill\":\"solid\",\"dash\":\"draw\",\"size\":\"m\",\"font\":\"draw\",\"text\":\"\",\"align\":\"middle\",\"verticalAlign\":\"middle\",\"growY\":0,\"url\":\"\"},\"parentId\":\"page:-iIL0y5rbWRs26XpH2f77\",\"index\":\"a1V\",\"typeName\":\"shape\"}]}\n"
     ]
    }
   ],
   "source": [
    "doc=open(\"ex3 layers yellow rectangle.tldr\", \"r\")\n",
    "print(doc.read())\n",
    "#2) the indices of the old rectangles did not change, the yellow rectangle, despite being between the first and second one is labelled with an index of 6\n",
    "#3)as expected in ex2, the index has nothing to do with lexicographic order"
   ]
  },
  {
   "cell_type": "markdown",
   "id": "14735fa1-8341-49a6-95ff-dff0882d38e0",
   "metadata": {},
   "source": [
    "![Yellow rectangle](images/add-yellow.png)"
   ]
  },
  {
   "cell_type": "markdown",
   "id": "2d9ac9b7-0771-4b4d-91ed-ac83d6e7bd77",
   "metadata": {},
   "source": [
    "Tldraw uses a technique called **fractional indexing** to generate new indices that fit between the existing ones.\n",
    "It is explained in details in the [Implementing Fractional Indexing](https://observablehq.com/@dgreensp/implementing-fractional-indexing) Observable (Javascript) notebook.\n",
    "\n",
    "The core idea of this method is to build a representation of indices as fractions in $\\left[0, 1\\right[$ which maps the\n",
    "lexicographic order into the the usual order on $\\mathbb{Q}$, \n",
    "then to solve the generation of intermediate indices in the fractional space since it's much easier there."
   ]
  },
  {
   "cell_type": "markdown",
   "id": "4ca6fd42-4078-4ef7-aee4-c299a0aa63fe",
   "metadata": {},
   "source": [
    "We associate to any string $\\mathtt{s}$ using only the 62 characters `\"0\"`, `\"1\"`, ... `\"9\"`, `\"A\"`, ... `\"Z\"`, `\"a\"`, ..., `\"z\"` as a fraction $\\mathcal{F}(\\mathtt{s}) \\in \\left[0, 1\\right[$ such that:\n",
    "\n",
    "$$\n",
    "\\mathcal{F}(\\mathtt{\"\"}) = 0\n",
    "$$\n",
    "\n",
    "$$\n",
    "\\mathcal{F}(\\mathtt{\"0\"}) = 0, \\; \\mathcal{F}(\\mathtt{\"1\"}) = \\frac{1}{62}, \\; \\dots\n",
    "$$\n",
    "\n",
    "$$\n",
    "\\mathcal{F}(\\mathtt{\"A\"}) = \\frac{10}{62}, \\; \\mathcal{F}(\\mathtt{\"B\"}) = \\frac{11}{62}, \\; \\dots\n",
    "$$\n",
    "$$\n",
    "\\mathcal{F}(\\mathtt{\"a\"}) = \\frac{36}{62}, \\; \\mathcal{F}(\\mathtt{\"b\"}) = \\frac{37}{62},\n",
    "\\; \\mathcal{F}(\\mathtt{\"z\"}) = \\frac{61}{62}.\n",
    "$$\n",
    "\n",
    "and for any character $\\mathtt{c}$ (i.e. string of length 1) and any string $\\mathtt{s}$,\n",
    "\n",
    "$$\n",
    "\\mathcal{F}(\\mathtt{c + s}) = \\mathcal{F}(\\mathtt{c}) + \\frac{\\mathcal{F}(\\mathtt{s})}{62}. \n",
    "$$\n",
    "\n",
    "For example:\n",
    "\n",
    "$$\n",
    "\\mathcal{F}(\\mathtt{\"abc\"})\n",
    "= \\frac{\\mathcal{F}(\\mathtt{\"a\"})}{62} + \\frac{\\mathcal{F}(\\mathtt{\"b\"})}{62^2} + \\frac{\\mathcal{F}(\\mathtt{\"c\"})}{62^3}\n",
    "= \\frac{36}{62} + \\frac{37}{62^2} + \\frac{38}{62^3}\n",
    "= \\frac{35179}{59582}\n",
    "$$\n",
    "    "
   ]
  },
  {
   "cell_type": "markdown",
   "id": "f787a69a-353c-4bcf-9189-38bc1d32ce2f",
   "metadata": {},
   "source": [
    "```{exercise}\n",
    "1. Assume that $\\mathcal{F}(\\mathtt{s1}) = \\mathcal{F}(\\mathtt{s2})$. What does this equality tell you about $\\mathtt{s1}$ and $\\mathtt{s2}$? \n",
    "2. Implement $\\mathcal{F}$ as `F` using the `fractions` module of the Python standard library.\n",
    "3. Make sure that all tests in the cell below pass.\n",
    "```"
   ]
  },
  {
   "cell_type": "code",
   "execution_count": 12,
   "id": "d82f7467-c78c-4ef7-8ae8-3781ffeb0449",
   "metadata": {},
   "outputs": [
    {
     "name": "stdout",
     "output_type": "stream",
     "text": [
      "True\n"
     ]
    }
   ],
   "source": [
    "#1) that means both strings have the same relative order in the lexicographic order. That does not mean it s the same string (character-wise)\n",
    "from fractions import Fraction\n",
    "def F(s):\n",
    "    result=Fraction(0,1)\n",
    "    res=0\n",
    "    for i in range(len(s)):\n",
    "        if s[i].isdigit():\n",
    "            res=Fraction(int(s[i]),62)\n",
    "        elif 'a'<=s[i]<='z':\n",
    "            res=Fraction((ord(s[i])-ord('a')+36),62)\n",
    "        elif s[i]=='':\n",
    "            res=Fraction(0,1)\n",
    "        else:\n",
    "            res=Fraction((ord(s[i])-ord('A')+10),62)    \n",
    "        result+=Fraction(res,62**i)\n",
    "    return result\n",
    "\n",
    "print(F(\"\")==Fraction(0, 62))"
   ]
  },
  {
   "cell_type": "code",
   "execution_count": 15,
   "id": "c989ccab-5fce-4d4e-8c93-17c04c0ae915",
   "metadata": {},
   "outputs": [
    {
     "name": "stdout",
     "output_type": "stream",
     "text": [
      "**********************************************************************\n",
      "File \"__main__\", line 34, in NoName\n",
      "Failed example:\n",
      "    F(\"a3\") == F(\"a\") + F(\"3\") / 68\n",
      "Expected:\n",
      "    True\n",
      "Got:\n",
      "    False\n"
     ]
    }
   ],
   "source": [
    "from fractions import Fraction\n",
    "\n",
    "ENABLE_TESTS = True # ℹ️ Set to True to test F whenever the cell is executed\n",
    "\n",
    "def F(s):\n",
    "    \"\"\"\n",
    "    >>> F(\"\") == Fraction(0, 62)\n",
    "    True\n",
    "    >>> F(\"0\") == Fraction(0, 62)  # ⚠️ Trailing zero!\n",
    "    True\n",
    "    >>> F(\"1\") == Fraction(1, 62)\n",
    "    True\n",
    "    >>> F(\"1000\") == Fraction(1, 62)  # ⚠️ Trailing zeros!\n",
    "    True\n",
    "    >>> F(\"9\") == Fraction(9, 62)\n",
    "    True\n",
    "    >>> F(\"A\") == Fraction(10, 62)\n",
    "    True\n",
    "    >>> F(\"Z\") == Fraction(35, 62)\n",
    "    True\n",
    "    >>> F(\"a\") == Fraction(36, 62)\n",
    "    True\n",
    "    >>> F(\"z\") == Fraction(61, 62)\n",
    "    True\n",
    "    \n",
    "    >>> F(\"a1\") == F(\"a\") + F(\"1\") / 62\n",
    "    True\n",
    "    >>> F(\"a1\")\n",
    "    Fraction(2233, 3844)\n",
    "    >>> F(\"a2\") == F(\"a\") + F(\"2\") / 62\n",
    "    True\n",
    "    >>> F(\"a2\")\n",
    "    Fraction(1117, 1922)\n",
    "    >>> F(\"a3\") == F(\"a\") + F(\"3\") / 62\n",
    "    True\n",
    "    >>> F(\"a3\")\n",
    "    Fraction(2235, 3844)\n",
    "\n",
    "    >>> F(\"abc\") == Fraction(35179, 59582)\n",
    "    True\n",
    "    >>> F(\"aardvark\") == Fraction(32218019837031, 54585026396224)\n",
    "    True\n",
    "    \"\"\"\n",
    "    result=Fraction(0,1)\n",
    "    res=0\n",
    "    for i in range(len(s)):\n",
    "        if s[i].isdigit():\n",
    "            res=Fraction(int(s[i]),62)\n",
    "        elif 'a'<=s[i]<='z':\n",
    "            res=Fraction((ord(s[i])-ord('a')+36),62)\n",
    "        elif s[i]=='':\n",
    "            res=Fraction(0,1)\n",
    "        else:\n",
    "            res=Fraction((ord(s[i])-ord('A')+10),62)    \n",
    "        result+=Fraction(res,62**i)\n",
    "    return result\n",
    "\n",
    "if ENABLE_TESTS: \n",
    "    import doctest\n",
    "    doctest.run_docstring_examples(F, globals())"
   ]
  },
  {
   "cell_type": "markdown",
   "id": "6d92075e-3a67-48af-9e4f-afcfa443a131",
   "metadata": {},
   "source": [
    "```{exercise}\n",
    "1. Implement the inverse of the function $\\mathcal{F}$ (restricted to the strings with no trailing zeros) as a function `iF`.\n",
    "2. Make sure that all tests in the cell below pass.\n",
    "```"
   ]
  },
  {
   "cell_type": "code",
   "execution_count": 16,
   "id": "7f16c9f6-0faa-4f0d-8124-cb8c3187e1aa",
   "metadata": {},
   "outputs": [],
   "source": [
    "def iF(fraction):\n",
    "    base=62\n",
    "    num=fraction.numerator\n",
    "    denom=fraction.denominator\n",
    "    rest=num\n",
    "    res=\"\"\n",
    "    while rest>0:\n",
    "        val=rest%62\n",
    "        if val==0:\n",
    "            res=\"0\"+res\n",
    "        elif 0<val<10:\n",
    "            res=str(val)+res\n",
    "        elif 9<val<36:\n",
    "            res=chr(ord('A')+val-10)+res\n",
    "        else:\n",
    "            res=chr(ord('a')+val-36)+res\n",
    "        rest=rest//62\n",
    "    return res\n",
    "        \n",
    "            \n",
    "            \n",
    "            \n",
    "            \n",
    "        \n",
    "        \n",
    "    "
   ]
  },
  {
   "cell_type": "code",
   "execution_count": 17,
   "id": "f51f104d-8625-4f0e-84c4-dcabad713c3b",
   "metadata": {},
   "outputs": [],
   "source": [
    "ENABLE_TESTS = False # ℹ️ Set to True to test F whenever the cell is executed\n",
    "\n",
    "def iF(fraction):\n",
    "    \"\"\"\n",
    "    >>> iF(F(\"\")) == \"\"\n",
    "    True\n",
    "    >>> iF(F(\"1\")) == \"1\"\n",
    "    True\n",
    "    >>> iF(F(\"A\")) == \"A\"\n",
    "    True\n",
    "    >>> iF(F(\"a\")) == \"a\"\n",
    "    True\n",
    "    >>> iF(F(\"abc\")) == \"abc\"\n",
    "    True\n",
    "    >>> iF(F(\"aardvark\")) == \"aardvark\"\n",
    "    True\n",
    "    \"\"\"\n",
    "    base=62\n",
    "    num=fraction.numerator\n",
    "    denom=fraction.denominator\n",
    "    rest=num\n",
    "    res=\"\"\n",
    "    while rest>0:\n",
    "        val=rest%62\n",
    "        if val==0:\n",
    "            res=\"0\"+res\n",
    "        elif 0<val<10:\n",
    "            res=str(val)+res\n",
    "        elif 9<val<36:\n",
    "            res=chr(ord('A')+val-10)+res\n",
    "        else:\n",
    "            res=chr(ord('a')+val-36)+res\n",
    "        rest=rest//62\n",
    "    return res\n",
    "    \n",
    "\n",
    "if ENABLE_TESTS: \n",
    "    import doctest\n",
    "    doctest.run_docstring_examples(iF, globals())"
   ]
  },
  {
   "cell_type": "markdown",
   "id": "ce370018-0eb4-4797-b7c9-a06b373b988b",
   "metadata": {},
   "source": [
    "```{exercise}\n",
    "1. Prove that if the strings $\\mathtt{s1}$ and $\\mathtt{s2}$ have no trailing zeros (e.g. \"hello\" is ok but not \"hell0\"),\n",
    "then $\\mathtt{s1} \\leq \\mathtt{s2}$ (in the lexicographic order) if and only if $\\mathcal{F}(\\mathtt{s1}) \\leq \\mathcal{F}(\\mathtt{s2})$\n",
    "(in the usual order on $\\mathbb{Q}$).\n",
    "\n",
    "2. Show that for any valid index (with no trailing zero), the formula\n",
    "\n",
    "   $$\n",
    "   \\mathtt{index\\_3} \n",
    "   = \n",
    "   \\mathcal{F}^{-1}\n",
    "   \\left(\n",
    "     \\frac{\n",
    "       \\mathcal{F}(\\mathtt{index\\_1}) + \\mathcal{F}(\\mathtt{index\\_2})\n",
    "     }{2}\n",
    "   \\right)\n",
    "   $$\n",
    "\n",
    "   defines a valid index.\n",
    "\n",
    "3. How are (lexicographically) ordered the strings $\\mathtt{index\\_1}, \\mathtt{index\\_2}$ and $\\mathtt{index\\_3}$?\n",
    "\n",
    "4. Implement a function `index_between` based on this analysis. Make sure that all the tests in the cell below pass.\n",
    "```"
   ]
  },
  {
   "cell_type": "code",
   "execution_count": 18,
   "id": "d4a3e0c4-e04e-4ac2-9d3d-7abc9cc00c9d",
   "metadata": {},
   "outputs": [],
   "source": [
    "#1) => si s1<=s2 alors de gauche à droite avec c1 les caractères de s1, c2 ceux de s2, c1<=c2 pour l'ordre lexicographique et donc il existe un rang pour lequel F(c1)<=F(c2), par propriété 5 on conclue\n",
    "#<= si F(s1)<F(s2), par l'absurde si il existe i telle que c1>c2 alors F(de tous les caractères jusqu'à c1)>F(tous les caractères jusqu'à c2) ce qui contredit l'hypothèse de base\n",
    "#2) F(index1)+F(index2)/2 est un indice valide car il est entre 0 et 1 puisque F(index1) et F(index2)<1\n",
    "#3) évidemment on ne peut rien dire entre 2 et 1, sans perte de généralité supposons index1<index2 alors index1<index3<index2 car iF est croissante et la moyenne de F(index1) et F(index2) est entre les 2\n",
    "def index_between(index_1,index_2):\n",
    "     return iF(0.5*(F(index_1)+F(index_2)))\n",
    "    \n"
   ]
  },
  {
   "cell_type": "code",
   "execution_count": 28,
   "id": "b3db2ca8-c99c-4961-82ed-a583e207bb8d",
   "metadata": {},
   "outputs": [],
   "source": [
    "ENABLE_TESTS = False # ℹ️ Set to True to test F whenever the cell is executed\n",
    "\n",
    "def index_between(index_1, index_2):\n",
    "    \"\"\"\n",
    "    >>> index_between(\"1\", \"2\")\n",
    "    '1V'\n",
    "    >>> index_between(\"a\", \"b\")\n",
    "    'aV'\n",
    "    >>> index_between(\"aardvark\", \"aardwolf\")\n",
    "    'aardwCohV'\n",
    "    \"\"\"\n",
    "    return iF(Fraction(1,2)*(F(index_1)+F(index_2)))\n",
    "    \n",
    "if ENABLE_TESTS:\n",
    "    import doctest\n",
    "    doctest.run_docstring_examples(index_between, globals())"
   ]
  },
  {
   "cell_type": "markdown",
   "id": "0cb2553f-6847-427d-8f63-9d805c76e524",
   "metadata": {},
   "source": [
    "# Application\n",
    "\n",
    "```{exercise}\n",
    "1. Go back to your tldraw editor and bring your yellow rectangle to front.\n",
    "2. Save the corresponding document and load it as a Python object.\n",
    "3. Use the `index_between` function to patch its depth so that it goes back between the black and violet rectangles.\n",
    "4. Save the document and reload it into the tldraw editor to check that it worked.\n",
    "```"
   ]
  },
  {
   "cell_type": "code",
   "execution_count": 33,
   "id": "6b092c85-8b04-4286-8912-c40ef7c91c14",
   "metadata": {},
   "outputs": [],
   "source": [
    "import json\n",
    "doc=open(\"ex7 layers yellow rectangle.tldr\", \"r\")\n",
    "hello = json.load(doc) \n",
    "import pprint\n",
    "#pprint.pprint(hello)\n",
    "index_black=hello['records'][3]['index']\n",
    "index_violet=hello['records'][4]['index']\n",
    "index_yellow=index_between(index_black,index_violet)\n",
    "hello['records'][8]['index']=index_yellow\n",
    "path='./modified ex7.tdlr'\n",
    "with open(path, \"w\") as output:\n",
    "    json.dump(hello, output)\n",
    "\n"
   ]
  },
  {
   "cell_type": "markdown",
   "id": "5917af10-0dfc-45da-bcf6-8503395dca7c",
   "metadata": {},
   "source": [
    "\n",
    "![Add yellow on top](images/add-yellow-on-top.png)"
   ]
  }
 ],
 "metadata": {
  "kernelspec": {
   "display_name": "Python 3 (ipykernel)",
   "language": "python",
   "name": "python3"
  },
  "language_info": {
   "codemirror_mode": {
    "name": "ipython",
    "version": 3
   },
   "file_extension": ".py",
   "mimetype": "text/x-python",
   "name": "python",
   "nbconvert_exporter": "python",
   "pygments_lexer": "ipython3",
   "version": "3.11.4"
  }
 },
 "nbformat": 4,
 "nbformat_minor": 5
}
