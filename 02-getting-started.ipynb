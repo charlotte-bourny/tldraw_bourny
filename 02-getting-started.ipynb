{
 "cells": [
  {
   "cell_type": "markdown",
   "id": "2d474a3e-274d-4bf8-95f3-2c18179877d9",
   "metadata": {},
   "source": [
    "---\n",
    "title: Getting Started\n",
    "date: 2023-11-30 \n",
    "authors:\n",
    "  - name: Sébastien Boisgérault\n",
    "    email: Sebastien.Boisgerault@minesparis.psl.eu\n",
    "    url: https://github.com/boisgera\n",
    "    affiliations:\n",
    "      - institution: Mines Paris - PSL University\n",
    "        department: Institut des Transformation Numériques (ITN)\n",
    "github: boisgera\n",
    "license: CC-BY-4.0\n",
    "open_access: true\n",
    "---"
   ]
  },
  {
   "cell_type": "markdown",
   "id": "99eb7623-348a-4873-9200-614c9be5bdb6",
   "metadata": {},
   "source": [
    "![tldraw](images/hello-tldraw.png)    "
   ]
  },
  {
   "cell_type": "markdown",
   "id": "f2cbb2bd-92e6-4c23-95b5-7996e1850533",
   "metadata": {},
   "source": [
    "# A Simple Document"
   ]
  },
  {
   "cell_type": "markdown",
   "id": "c95958ae-0e8e-40b3-9a1a-963745eda44e",
   "metadata": {},
   "source": [
    "```{exercise} Create a \"Hello tldraw!\" document\n",
    "\n",
    " 1. Download the folder of this project on your computer. \n",
    "  \n",
    " 2. Create an tldraw document that contains the text \"Hello tldraw!\" and save it on your computer.\n",
    " \n",
    " 3. Rename your tldraw document `hello-tldraw.tldr` and move it into the `docs` subfolder of the project.\n",
    "```"
   ]
  },
  {
   "cell_type": "markdown",
   "id": "f663cb6a-c804-4438-a6bb-7132a7c86332",
   "metadata": {},
   "source": [
    "Tldraw files are (utf-8-encoded) text files and therefore can be easily inspected. \n",
    "\n",
    "```{exercise} What's the format of tldraw documents?\n",
    "\n",
    "  1. Print the content of your \"Hello tldraw!\" document into this notebook.\n",
    "\n",
    "  2. The tldraw document format is a dialect of a general-purpose structured data format. \n",
    "  \n",
    "     Which one is it? (JSON, XML, CSV? something else?)\n",
    "\n",
    "```\n"
   ]
  },
  {
   "cell_type": "code",
   "execution_count": 9,
   "id": "14756590-7fe8-441a-9c73-37c6c914c899",
   "metadata": {},
   "outputs": [
    {
     "name": "stdout",
     "output_type": "stream",
     "text": [
      "{\"tldrawFileFormatVersion\":1,\"schema\":{\"schemaVersion\":1,\"storeVersion\":4,\"recordVersions\":{\"asset\":{\"version\":1,\"subTypeKey\":\"type\",\"subTypeVersions\":{\"image\":2,\"video\":2,\"bookmark\":0}},\"camera\":{\"version\":1},\"document\":{\"version\":2},\"instance\":{\"version\":22},\"instance_page_state\":{\"version\":5},\"page\":{\"version\":1},\"shape\":{\"version\":3,\"subTypeKey\":\"type\",\"subTypeVersions\":{\"group\":0,\"text\":1,\"bookmark\":1,\"draw\":1,\"geo\":7,\"note\":4,\"line\":1,\"frame\":0,\"arrow\":2,\"highlight\":0,\"embed\":4,\"image\":2,\"video\":1}},\"instance_presence\":{\"version\":5},\"pointer\":{\"version\":1}}},\"records\":[{\"gridSize\":10,\"name\":\"\",\"meta\":{},\"id\":\"document:document\",\"typeName\":\"document\"},{\"id\":\"pointer:pointer\",\"typeName\":\"pointer\",\"x\":281.6000061035156,\"y\":264.6000061035156,\"lastActivityTimestamp\":1703955130372,\"meta\":{}},{\"meta\":{},\"id\":\"page:page\",\"name\":\"Page 1\",\"index\":\"a1\",\"typeName\":\"page\"},{\"x\":0,\"y\":0,\"z\":1,\"meta\":{},\"id\":\"camera:page:page\",\"typeName\":\"camera\"},{\"editingShapeId\":null,\"croppingShapeId\":null,\"selectedShapeIds\":[],\"hoveredShapeId\":null,\"erasingShapeIds\":[],\"hintingShapeIds\":[],\"focusedGroupId\":null,\"meta\":{},\"id\":\"instance_page_state:page:page\",\"pageId\":\"page:page\",\"typeName\":\"instance_page_state\"},{\"followingUserId\":null,\"opacityForNextShape\":1,\"stylesForNextShape\":{},\"brush\":null,\"scribbles\":[],\"cursor\":{\"type\":\"default\",\"rotation\":0},\"isFocusMode\":false,\"exportBackground\":true,\"isDebugMode\":false,\"isToolLocked\":false,\"screenBounds\":{\"x\":0,\"y\":0,\"w\":1536,\"h\":695.2000122070312},\"zoomBrush\":null,\"isGridMode\":false,\"isPenMode\":false,\"chatMessage\":\"\",\"isChatting\":false,\"highlightedUserIds\":[],\"canMoveCamera\":true,\"isFocused\":true,\"devicePixelRatio\":1.25,\"isCoarsePointer\":false,\"isHoveringCanvas\":true,\"openMenus\":[],\"isChangingStyle\":false,\"isReadonly\":false,\"meta\":{},\"id\":\"instance:instance\",\"currentPageId\":\"page:page\",\"typeName\":\"instance\"},{\"x\":556.4187850952148,\"y\":398.0000114440918,\"rotation\":0,\"isLocked\":false,\"opacity\":1,\"meta\":{},\"id\":\"shape:_VuHWoJb4MfdSi1J-bSf-\",\"type\":\"text\",\"props\":{\"color\":\"black\",\"size\":\"m\",\"w\":162.3625030517578,\"text\":\"hello tldraw!\",\"font\":\"draw\",\"align\":\"middle\",\"autoSize\":true,\"scale\":1},\"parentId\":\"page:page\",\"index\":\"a1\",\"typeName\":\"shape\"}]}\n"
     ]
    }
   ],
   "source": [
    "2.# a tldraw contains JSON text (we recognize the curly brackets containing objects and attributes separated by ':')\n",
    "doc=open(\"hello-tldraw.tldr\", \"r\")\n",
    "print(doc.read())"
   ]
  },
  {
   "cell_type": "markdown",
   "id": "a8f5e1cc-1425-4394-8d73-47640d66d298",
   "metadata": {},
   "source": [
    "\n",
    "```{exercise} Load the document\n",
    ":label: load\n",
    "\n",
    " 1. Find the Python standard library that deals with the file format use by tldraw.\n",
    "\n",
    " 2. Use it to load the tldraw document as a tree-like structure (⚠️ not as a string!).\n",
    "\n",
    " 3. Name this structure `hello`.\n",
    "\n",
    "```"
   ]
  },
  {
   "cell_type": "code",
   "execution_count": 21,
   "id": "5ec53f92-8471-479a-9443-1c54ca6541af",
   "metadata": {},
   "outputs": [
    {
     "name": "stdout",
     "output_type": "stream",
     "text": [
      "{'records': [{'gridSize': 10,\n",
      "              'id': 'document:document',\n",
      "              'meta': {},\n",
      "              'name': '',\n",
      "              'typeName': 'document'},\n",
      "             {'id': 'pointer:pointer',\n",
      "              'lastActivityTimestamp': 1703955130372,\n",
      "              'meta': {},\n",
      "              'typeName': 'pointer',\n",
      "              'x': 281.6000061035156,\n",
      "              'y': 264.6000061035156},\n",
      "             {'id': 'page:page',\n",
      "              'index': 'a1',\n",
      "              'meta': {},\n",
      "              'name': 'Page 1',\n",
      "              'typeName': 'page'},\n",
      "             {'id': 'camera:page:page',\n",
      "              'meta': {},\n",
      "              'typeName': 'camera',\n",
      "              'x': 0,\n",
      "              'y': 0,\n",
      "              'z': 1},\n",
      "             {'croppingShapeId': None,\n",
      "              'editingShapeId': None,\n",
      "              'erasingShapeIds': [],\n",
      "              'focusedGroupId': None,\n",
      "              'hintingShapeIds': [],\n",
      "              'hoveredShapeId': None,\n",
      "              'id': 'instance_page_state:page:page',\n",
      "              'meta': {},\n",
      "              'pageId': 'page:page',\n",
      "              'selectedShapeIds': [],\n",
      "              'typeName': 'instance_page_state'},\n",
      "             {'brush': None,\n",
      "              'canMoveCamera': True,\n",
      "              'chatMessage': '',\n",
      "              'currentPageId': 'page:page',\n",
      "              'cursor': {'rotation': 0, 'type': 'default'},\n",
      "              'devicePixelRatio': 1.25,\n",
      "              'exportBackground': True,\n",
      "              'followingUserId': None,\n",
      "              'highlightedUserIds': [],\n",
      "              'id': 'instance:instance',\n",
      "              'isChangingStyle': False,\n",
      "              'isChatting': False,\n",
      "              'isCoarsePointer': False,\n",
      "              'isDebugMode': False,\n",
      "              'isFocusMode': False,\n",
      "              'isFocused': True,\n",
      "              'isGridMode': False,\n",
      "              'isHoveringCanvas': True,\n",
      "              'isPenMode': False,\n",
      "              'isReadonly': False,\n",
      "              'isToolLocked': False,\n",
      "              'meta': {},\n",
      "              'opacityForNextShape': 1,\n",
      "              'openMenus': [],\n",
      "              'screenBounds': {'h': 695.2000122070312,\n",
      "                               'w': 1536,\n",
      "                               'x': 0,\n",
      "                               'y': 0},\n",
      "              'scribbles': [],\n",
      "              'stylesForNextShape': {},\n",
      "              'typeName': 'instance',\n",
      "              'zoomBrush': None},\n",
      "             {'id': 'shape:_VuHWoJb4MfdSi1J-bSf-',\n",
      "              'index': 'a1',\n",
      "              'isLocked': False,\n",
      "              'meta': {},\n",
      "              'opacity': 1,\n",
      "              'parentId': 'page:page',\n",
      "              'props': {'align': 'middle',\n",
      "                        'autoSize': True,\n",
      "                        'color': 'black',\n",
      "                        'font': 'draw',\n",
      "                        'scale': 1,\n",
      "                        'size': 'm',\n",
      "                        'text': 'hello tldraw!',\n",
      "                        'w': 162.3625030517578},\n",
      "              'rotation': 0,\n",
      "              'type': 'text',\n",
      "              'typeName': 'shape',\n",
      "              'x': 556.4187850952148,\n",
      "              'y': 398.0000114440918}],\n",
      " 'schema': {'recordVersions': {'asset': {'subTypeKey': 'type',\n",
      "                                         'subTypeVersions': {'bookmark': 0,\n",
      "                                                             'image': 2,\n",
      "                                                             'video': 2},\n",
      "                                         'version': 1},\n",
      "                               'camera': {'version': 1},\n",
      "                               'document': {'version': 2},\n",
      "                               'instance': {'version': 22},\n",
      "                               'instance_page_state': {'version': 5},\n",
      "                               'instance_presence': {'version': 5},\n",
      "                               'page': {'version': 1},\n",
      "                               'pointer': {'version': 1},\n",
      "                               'shape': {'subTypeKey': 'type',\n",
      "                                         'subTypeVersions': {'arrow': 2,\n",
      "                                                             'bookmark': 1,\n",
      "                                                             'draw': 1,\n",
      "                                                             'embed': 4,\n",
      "                                                             'frame': 0,\n",
      "                                                             'geo': 7,\n",
      "                                                             'group': 0,\n",
      "                                                             'highlight': 0,\n",
      "                                                             'image': 2,\n",
      "                                                             'line': 1,\n",
      "                                                             'note': 4,\n",
      "                                                             'text': 1,\n",
      "                                                             'video': 1},\n",
      "                                         'version': 3}},\n",
      "            'schemaVersion': 1,\n",
      "            'storeVersion': 4},\n",
      " 'tldrawFileFormatVersion': 1}\n"
     ]
    }
   ],
   "source": [
    "import json\n",
    "docc = open('hello-tldraw.tldr')\n",
    "hello = json.load(docc)  #converts it to a dictionnary\n",
    "\n",
    "# Print the resulting tree-like structure\n",
    "import pprint\n",
    "pprint.pprint(hello)\n"
   ]
  },
  {
   "cell_type": "markdown",
   "id": "a6ce392d-b8fa-4df2-a5e1-e5c9b81dffc8",
   "metadata": {},
   "source": [
    "# Records & Shapes"
   ]
  },
  {
   "cell_type": "markdown",
   "id": "c30a7788-e59e-42ab-a5da-c43aa1bb0872",
   "metadata": {},
   "source": [
    "```{exercise} Structure\n",
    ":label:\n",
    "\n",
    " 1. Can you locate a list of \"records\" inside `doc`? Name that list `records`.\n",
    "\n",
    " 2. Records all have a type name. Can you list all of them?\n",
    "\n",
    " 3. There should be a single shape among your records. What's it's `type`?\n",
    "\n",
    " 4. Name `hello_text` this record and display it in the notebook\n",
    "\n",
    "```"
   ]
  },
  {
   "cell_type": "code",
   "execution_count": 28,
   "id": "94a1c8b4-1356-4142-9f28-f3dafb2779f2",
   "metadata": {},
   "outputs": [
    {
     "name": "stdout",
     "output_type": "stream",
     "text": [
      "['document', 'pointer', 'page', 'camera', 'instance_page_state', 'instance', 'shape']\n",
      "text\n",
      "{'id': 'shape:_VuHWoJb4MfdSi1J-bSf-',\n",
      " 'index': 'a1',\n",
      " 'isLocked': False,\n",
      " 'meta': {},\n",
      " 'opacity': 1,\n",
      " 'parentId': 'page:page',\n",
      " 'props': {'align': 'middle',\n",
      "           'autoSize': True,\n",
      "           'color': 'black',\n",
      "           'font': 'draw',\n",
      "           'scale': 1,\n",
      "           'size': 'm',\n",
      "           'text': 'hello tldraw!',\n",
      "           'w': 162.3625030517578},\n",
      " 'rotation': 0,\n",
      " 'type': 'text',\n",
      " 'typeName': 'shape',\n",
      " 'x': 556.4187850952148,\n",
      " 'y': 398.0000114440918}\n"
     ]
    }
   ],
   "source": [
    "#1. there are 7 records, the first one contains properties which are: gridsize, name,  meta, id and typename.\n",
    "records=dico.get('records')\n",
    "#2)\n",
    "record_type_names = [record.get('typeName') for record in records]\n",
    "print(record_type_names)\n",
    "#3)\n",
    "shape_types = [record.get('type') for record in records if record.get('type')] #test to discard the None if the record does not have a type\n",
    "print(shape_types[0])\n",
    "#4)\n",
    "hello_text = next((record for record in records if record.get('type') == 'text'))  #I use next to only retrieve the first element\n",
    "pprint.pprint(hello_text)\n"
   ]
  },
  {
   "cell_type": "markdown",
   "id": "88a29de9-0fb7-4173-8f5e-29377e5e2147",
   "metadata": {},
   "source": [
    "# Edit the Document"
   ]
  },
  {
   "cell_type": "markdown",
   "id": "0e3880a5-049b-4d0a-a4aa-2678eff6406c",
   "metadata": {},
   "source": [
    "```{exercise} Text Content\n",
    "\n",
    "  1. Locate where in the `hello_text` record the text content is located.\n",
    "  \n",
    "  2. Replace \"Hello tldraw!\" with \"Hello Python!\"\n",
    "\n",
    "  3. Save the corresponding document in the directory `docs` as a `hello-python.tldr` file.\n",
    "\n",
    "  4. Load it in the tldraw editor and check that you end up with something similar to the picture below.\n",
    "\n",
    "```"
   ]
  },
  {
   "cell_type": "code",
   "execution_count": 48,
   "id": "0c301bd3-1b51-4d1a-88a0-877d4e31061c",
   "metadata": {},
   "outputs": [],
   "source": [
    "text_content=hello_text['props']['text']\n",
    "hello['records'][-1]['props']['text']=hello['records'][-1]['props']['text'].replace('hello tldraw!','Hello Python!')\n",
    "new_file_path = './hello-python.tldr'\n",
    "with open(new_file_path, 'w') as new_file:\n",
    "    json.dump(hello, new_file)\n",
    "\n"
   ]
  },
  {
   "cell_type": "markdown",
   "id": "1f95f445-0b47-4cea-a53b-b8d0a8bed59f",
   "metadata": {},
   "source": [
    "![](images/hello-python.png)"
   ]
  }
 ],
 "metadata": {
  "kernelspec": {
   "display_name": "Python 3 (ipykernel)",
   "language": "python",
   "name": "python3"
  },
  "language_info": {
   "codemirror_mode": {
    "name": "ipython",
    "version": 3
   },
   "file_extension": ".py",
   "mimetype": "text/x-python",
   "name": "python",
   "nbconvert_exporter": "python",
   "pygments_lexer": "ipython3",
   "version": "3.11.4"
  }
 },
 "nbformat": 4,
 "nbformat_minor": 5
}
